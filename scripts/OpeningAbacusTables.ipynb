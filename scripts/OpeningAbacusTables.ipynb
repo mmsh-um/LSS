{
 "cells": [
  {
   "cell_type": "code",
   "execution_count": 1,
   "metadata": {},
   "outputs": [],
   "source": [
    "from matplotlib import pyplot as plt\n",
    "from astropy.io import (fits, ascii)\n",
    "import numpy as np\n",
    "from numpy.random import default_rng\n",
    "import pickle\n",
    "from astropy.table import Table, join, vstack, unique, setdiff\n",
    "import fitsio\n",
    "import pandas as pd\n",
    "from LSS.globals import main\n",
    "import LSS.common_tools as common\n",
    "import healpy as hp\n",
    "import os"
   ]
  },
  {
   "cell_type": "code",
   "execution_count": 2,
   "metadata": {},
   "outputs": [],
   "source": [
    "elg0 = Table.read(\"/pscratch/sd/s/sikandar/AbacusV3Dump/ffa_full_ELG_LOP_ll_0.02_beta0..fits\")"
   ]
  },
  {
   "cell_type": "code",
   "execution_count": null,
   "metadata": {},
   "outputs": [
    {
     "data": {
      "text/plain": [
       "3188042"
      ]
     },
     "execution_count": 4,
     "metadata": {},
     "output_type": "execute_result"
    }
   ],
   "source": [
    "len(elg0[elg0[\"WEIGHT_IIP\"] != 1e+20])"
   ]
  },
  {
   "cell_type": "code",
   "execution_count": 7,
   "metadata": {},
   "outputs": [],
   "source": [
    "elgold = Table.read(\"/global/cfs/cdirs/desi/survey/catalogs/Y1/mocks/SecondGenMocks/AbacusSummit_v3/mock0/ffa_full_ELG_LOP.fits\")"
   ]
  },
  {
   "cell_type": "code",
   "execution_count": 8,
   "metadata": {},
   "outputs": [
    {
     "data": {
      "text/plain": [
       "3782611"
      ]
     },
     "execution_count": 8,
     "metadata": {},
     "output_type": "execute_result"
    }
   ],
   "source": [
    "len(elgold[elgold[\"WEIGHT_IIP\"] != 1e+20])"
   ]
  },
  {
   "cell_type": "code",
   "execution_count": 9,
   "metadata": {},
   "outputs": [],
   "source": [
    "lrgold = Table.read(\"/global/cfs/cdirs/desi/survey/catalogs/Y1/mocks/SecondGenMocks/AbacusSummit_v3/mock0/ffa_full_LRG.fits\")\n",
    "lrg0 = Table.read(\"/pscratch/sd/s/sikandar/AbacusV3Dump/ffa_full_LRG_ll_0.02_beta0..fits\")"
   ]
  },
  {
   "cell_type": "code",
   "execution_count": 10,
   "metadata": {},
   "outputs": [
    {
     "data": {
      "text/plain": [
       "2259690"
      ]
     },
     "execution_count": 10,
     "metadata": {},
     "output_type": "execute_result"
    }
   ],
   "source": [
    "len(lrg0[lrg0[\"WEIGHT_IIP\"]!=1e+20])"
   ]
  },
  {
   "cell_type": "code",
   "execution_count": 11,
   "metadata": {},
   "outputs": [
    {
     "data": {
      "text/plain": [
       "2659088"
      ]
     },
     "execution_count": 11,
     "metadata": {},
     "output_type": "execute_result"
    }
   ],
   "source": [
    "len(lrgold[lrgold[\"WEIGHT_IIP\"]!=1e+20])"
   ]
  },
  {
   "cell_type": "code",
   "execution_count": 12,
   "metadata": {},
   "outputs": [],
   "source": [
    "fofold = ascii.read(\"/global/cfs/cdirs/desi/survey/catalogs/main/mocks/FAemu_preliminary/sikandar/Updated_Code_CFC/fof_v1.0/out/AbacusSummit_v3/AbacusSummit_v3_forFAemu_m0_B_ELG_truent_part_llen0.02.dat\", format = 'no_header')"
   ]
  },
  {
   "cell_type": "code",
   "execution_count": 13,
   "metadata": {},
   "outputs": [],
   "source": [
    "fofnew = ascii.read(\"/global/cfs/cdirs/desi/survey/catalogs/main/mocks/FAemu_preliminary/sikandar/desi-ffa-emulator/fof_v1.0/out/AbacusSummit_v3/AbacusSummit_v3_forFAemu_m0_B_ELG_truent_part_llen0.02.dat\", format = 'no_header')"
   ]
  },
  {
   "cell_type": "code",
   "execution_count": 14,
   "metadata": {},
   "outputs": [
    {
     "data": {
      "text/plain": [
       "13248548"
      ]
     },
     "execution_count": 14,
     "metadata": {},
     "output_type": "execute_result"
    }
   ],
   "source": [
    "len(fofold)"
   ]
  },
  {
   "cell_type": "code",
   "execution_count": 15,
   "metadata": {},
   "outputs": [
    {
     "data": {
      "text/plain": [
       "13248548"
      ]
     },
     "execution_count": 15,
     "metadata": {},
     "output_type": "execute_result"
    }
   ],
   "source": [
    "len(fofnew)"
   ]
  },
  {
   "cell_type": "code",
   "execution_count": 19,
   "metadata": {},
   "outputs": [
    {
     "data": {
      "text/html": [
       "&lt;Column name=&apos;col6&apos; dtype=&apos;str1&apos; length=1&gt;\n",
       "<table>\n",
       "<tr><td>T</td></tr>\n",
       "</table>"
      ],
      "text/plain": [
       "<Column name='col6' dtype='str1' length=1>\n",
       "T"
      ]
     },
     "execution_count": 19,
     "metadata": {},
     "output_type": "execute_result"
    }
   ],
   "source": [
    "np.unique(fofold[\"col6\"])"
   ]
  },
  {
   "cell_type": "code",
   "execution_count": 25,
   "metadata": {},
   "outputs": [
    {
     "data": {
      "text/plain": [
       "array([ True])"
      ]
     },
     "execution_count": 25,
     "metadata": {},
     "output_type": "execute_result"
    }
   ],
   "source": [
    "np.unique(fofold[\"col7\"] == fofnew[\"col7\"])"
   ]
  },
  {
   "cell_type": "code",
   "execution_count": null,
   "metadata": {},
   "outputs": [],
   "source": []
  }
 ],
 "metadata": {
  "kernelspec": {
   "display_name": "cosmodesi-main",
   "language": "python",
   "name": "cosmodesi-main"
  }
 },
 "nbformat": 4,
 "nbformat_minor": 2
}
